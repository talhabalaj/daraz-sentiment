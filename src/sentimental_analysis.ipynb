{
 "cells": [
  {
   "cell_type": "markdown",
   "metadata": {},
   "source": [
    "##### Importing the required libraries"
   ]
  },
  {
   "cell_type": "code",
   "execution_count": 1,
   "metadata": {},
   "outputs": [
    {
     "name": "stdout",
     "output_type": "stream",
     "text": [
      "data folder is set to `/home/talha/dev/university_code/semester_7/ml/project_daraz_reviews/.env/lib/python3.9/site-packages/neuspell/../data` script\n"
     ]
    }
   ],
   "source": [
    "import pandas as pd\n",
    "import numpy as np\n",
    "import matplotlib.pyplot as plt\n",
    "import nltk\n",
    "import spacy\n",
    "from spacy.language import Language\n",
    "import re\n",
    "from spacy_langdetect import LanguageDetector\n",
    "from tqdm.notebook import tqdm_notebook\n",
    "from neuspell import BertChecker\n",
    "\n",
    "tqdm_notebook.pandas()\n"
   ]
  },
  {
   "cell_type": "code",
   "execution_count": null,
   "metadata": {},
   "outputs": [],
   "source": [
    "spacy.prefer_gpu()\n"
   ]
  },
  {
   "cell_type": "code",
   "execution_count": 2,
   "metadata": {},
   "outputs": [],
   "source": [
    "## Initial Spacy\n",
    "nlp = spacy.load('en_core_web_trf')"
   ]
  },
  {
   "cell_type": "code",
   "execution_count": 3,
   "metadata": {},
   "outputs": [],
   "source": [
    "## Spacy Related Functions\n",
    "@Language.factory(\"language_detector\")\n",
    "def get_lang_detector(nlp, name):\n",
    "   return LanguageDetector()"
   ]
  },
  {
   "cell_type": "code",
   "execution_count": 4,
   "metadata": {},
   "outputs": [
    {
     "data": {
      "text/plain": [
       "<spacy_langdetect.spacy_langdetect.LanguageDetector at 0x7f139e682fa0>"
      ]
     },
     "execution_count": 4,
     "metadata": {},
     "output_type": "execute_result"
    }
   ],
   "source": [
    "## Pipes\n",
    "nlp.add_pipe('sentencizer')\n",
    "nlp.add_pipe('language_detector')"
   ]
  },
  {
   "cell_type": "code",
   "execution_count": 25,
   "metadata": {},
   "outputs": [
    {
     "data": {
      "text/html": [
       "<div>\n",
       "<style scoped>\n",
       "    .dataframe tbody tr th:only-of-type {\n",
       "        vertical-align: middle;\n",
       "    }\n",
       "\n",
       "    .dataframe tbody tr th {\n",
       "        vertical-align: top;\n",
       "    }\n",
       "\n",
       "    .dataframe thead th {\n",
       "        text-align: right;\n",
       "    }\n",
       "</style>\n",
       "<table border=\"1\" class=\"dataframe\">\n",
       "  <thead>\n",
       "    <tr style=\"text-align: right;\">\n",
       "      <th></th>\n",
       "      <th>reviews</th>\n",
       "    </tr>\n",
       "  </thead>\n",
       "  <tbody>\n",
       "    <tr>\n",
       "      <th>0</th>\n",
       "      <td>original as shown in advertisement.\\ngood qual...</td>\n",
       "    </tr>\n",
       "    <tr>\n",
       "      <th>1</th>\n",
       "      <td>Same as shown in picture. Received same color,...</td>\n",
       "    </tr>\n",
       "    <tr>\n",
       "      <th>2</th>\n",
       "      <td>comfortable, and very soft item, love it and m...</td>\n",
       "    </tr>\n",
       "    <tr>\n",
       "      <th>3</th>\n",
       "      <td>it was packed well... same as shown ..i ordere...</td>\n",
       "    </tr>\n",
       "    <tr>\n",
       "      <th>4</th>\n",
       "      <td>for healthy Bady sitting space is less to sit....</td>\n",
       "    </tr>\n",
       "    <tr>\n",
       "      <th>5</th>\n",
       "      <td>No doubt same as in the pic but just for 3-4 m...</td>\n",
       "    </tr>\n",
       "    <tr>\n",
       "      <th>6</th>\n",
       "      <td>comfortable but size is very small</td>\n",
       "    </tr>\n",
       "    <tr>\n",
       "      <th>7</th>\n",
       "      <td>So haPpy to receive the parcel. Exactly same a...</td>\n",
       "    </tr>\n",
       "    <tr>\n",
       "      <th>8</th>\n",
       "      <td>Good product same as shown in pic 😊 recommended</td>\n",
       "    </tr>\n",
       "    <tr>\n",
       "      <th>9</th>\n",
       "      <td>Quality was soo good just like shown in picture.</td>\n",
       "    </tr>\n",
       "    <tr>\n",
       "      <th>10</th>\n",
       "      <td>It so nice &amp; I liked  it very much 😊</td>\n",
       "    </tr>\n",
       "    <tr>\n",
       "      <th>11</th>\n",
       "      <td>awsome love it .....\\n</td>\n",
       "    </tr>\n",
       "    <tr>\n",
       "      <th>12</th>\n",
       "      <td>same as shown 👌</td>\n",
       "    </tr>\n",
       "    <tr>\n",
       "      <th>13</th>\n",
       "      <td>The bay sofa is so comfortable n supporting. M...</td>\n",
       "    </tr>\n",
       "    <tr>\n",
       "      <th>14</th>\n",
       "      <td>This is fantastic 👍. I love to the stuff and s...</td>\n",
       "    </tr>\n",
       "    <tr>\n",
       "      <th>15</th>\n",
       "      <td>The sofa seat is very very small for my baby t...</td>\n",
       "    </tr>\n",
       "    <tr>\n",
       "      <th>16</th>\n",
       "      <td>this is very small as compared to picture. mat...</td>\n",
       "    </tr>\n",
       "    <tr>\n",
       "      <th>17</th>\n",
       "      <td>Just as in the picture. Good design and qualit...</td>\n",
       "    </tr>\n",
       "    <tr>\n",
       "      <th>18</th>\n",
       "      <td>As far quality is concerned, it is good not so...</td>\n",
       "    </tr>\n",
       "    <tr>\n",
       "      <th>19</th>\n",
       "      <td>very GOod Quality and also same as in Photo an...</td>\n",
       "    </tr>\n",
       "  </tbody>\n",
       "</table>\n",
       "</div>"
      ],
      "text/plain": [
       "                                              reviews\n",
       "0   original as shown in advertisement.\\ngood qual...\n",
       "1   Same as shown in picture. Received same color,...\n",
       "2   comfortable, and very soft item, love it and m...\n",
       "3   it was packed well... same as shown ..i ordere...\n",
       "4   for healthy Bady sitting space is less to sit....\n",
       "5   No doubt same as in the pic but just for 3-4 m...\n",
       "6                  comfortable but size is very small\n",
       "7   So haPpy to receive the parcel. Exactly same a...\n",
       "8    Good product same as shown in pic 😊 recommended \n",
       "9    Quality was soo good just like shown in picture.\n",
       "10               It so nice & I liked  it very much 😊\n",
       "11                             awsome love it .....\\n\n",
       "12                                    same as shown 👌\n",
       "13  The bay sofa is so comfortable n supporting. M...\n",
       "14  This is fantastic 👍. I love to the stuff and s...\n",
       "15  The sofa seat is very very small for my baby t...\n",
       "16  this is very small as compared to picture. mat...\n",
       "17  Just as in the picture. Good design and qualit...\n",
       "18  As far quality is concerned, it is good not so...\n",
       "19  very GOod Quality and also same as in Photo an..."
      ]
     },
     "execution_count": 25,
     "metadata": {},
     "output_type": "execute_result"
    }
   ],
   "source": [
    "# Load our cleaned data\n",
    "df = pd.read_csv('../data/scrapped_data.csv')\n",
    "df.head(20)\n"
   ]
  },
  {
   "cell_type": "markdown",
   "metadata": {},
   "source": [
    "### Data Cleaning"
   ]
  },
  {
   "cell_type": "markdown",
   "metadata": {},
   "source": [
    "##### Remove non-alphanumeric characters"
   ]
  },
  {
   "cell_type": "code",
   "execution_count": 26,
   "metadata": {},
   "outputs": [],
   "source": [
    "def clean_text(text):\n",
    "  \"\"\"\n",
    "  Clean the text \n",
    "  \"\"\"\n",
    "  text = re.sub(r'\\n', ' ', text) # remove new lines\n",
    "  text = re.sub(r'[^\\w\\s]', ' ', text) # remove punctuation & symbols\n",
    "  text = re.sub(r'\\s+', ' ', text) # remove extra spaces\n",
    "  text = text.lower()\n",
    "  return text\n"
   ]
  },
  {
   "cell_type": "code",
   "execution_count": 27,
   "metadata": {},
   "outputs": [
    {
     "data": {
      "application/vnd.jupyter.widget-view+json": {
       "model_id": "41ff6a2f9d004d1d99ab736b86dd9db9",
       "version_major": 2,
       "version_minor": 0
      },
      "text/plain": [
       "  0%|          | 0/27674 [00:00<?, ?it/s]"
      ]
     },
     "metadata": {},
     "output_type": "display_data"
    },
    {
     "data": {
      "text/html": [
       "<div>\n",
       "<style scoped>\n",
       "    .dataframe tbody tr th:only-of-type {\n",
       "        vertical-align: middle;\n",
       "    }\n",
       "\n",
       "    .dataframe tbody tr th {\n",
       "        vertical-align: top;\n",
       "    }\n",
       "\n",
       "    .dataframe thead th {\n",
       "        text-align: right;\n",
       "    }\n",
       "</style>\n",
       "<table border=\"1\" class=\"dataframe\">\n",
       "  <thead>\n",
       "    <tr style=\"text-align: right;\">\n",
       "      <th></th>\n",
       "      <th>reviews</th>\n",
       "      <th>cleaned_reviews</th>\n",
       "    </tr>\n",
       "  </thead>\n",
       "  <tbody>\n",
       "    <tr>\n",
       "      <th>0</th>\n",
       "      <td>original as shown in advertisement.\\ngood qual...</td>\n",
       "      <td>original as shown in advertisement good qualit...</td>\n",
       "    </tr>\n",
       "    <tr>\n",
       "      <th>1</th>\n",
       "      <td>Same as shown in picture. Received same color,...</td>\n",
       "      <td>same as shown in picture received same color w...</td>\n",
       "    </tr>\n",
       "    <tr>\n",
       "      <th>2</th>\n",
       "      <td>comfortable, and very soft item, love it and m...</td>\n",
       "      <td>comfortable and very soft item love it and my ...</td>\n",
       "    </tr>\n",
       "    <tr>\n",
       "      <th>3</th>\n",
       "      <td>it was packed well... same as shown ..i ordere...</td>\n",
       "      <td>it was packed well same as shown i ordered pin...</td>\n",
       "    </tr>\n",
       "    <tr>\n",
       "      <th>4</th>\n",
       "      <td>for healthy Bady sitting space is less to sit....</td>\n",
       "      <td>for healthy bady sitting space is less to sit ...</td>\n",
       "    </tr>\n",
       "    <tr>\n",
       "      <th>5</th>\n",
       "      <td>No doubt same as in the pic but just for 3-4 m...</td>\n",
       "      <td>no doubt same as in the pic but just for 3 4 m...</td>\n",
       "    </tr>\n",
       "    <tr>\n",
       "      <th>6</th>\n",
       "      <td>comfortable but size is very small</td>\n",
       "      <td>comfortable but size is very small</td>\n",
       "    </tr>\n",
       "    <tr>\n",
       "      <th>7</th>\n",
       "      <td>So haPpy to receive the parcel. Exactly same a...</td>\n",
       "      <td>so happy to receive the parcel exactly same as...</td>\n",
       "    </tr>\n",
       "    <tr>\n",
       "      <th>8</th>\n",
       "      <td>Good product same as shown in pic 😊 recommended</td>\n",
       "      <td>good product same as shown in pic recommended</td>\n",
       "    </tr>\n",
       "    <tr>\n",
       "      <th>9</th>\n",
       "      <td>Quality was soo good just like shown in picture.</td>\n",
       "      <td>quality was soo good just like shown in picture</td>\n",
       "    </tr>\n",
       "    <tr>\n",
       "      <th>10</th>\n",
       "      <td>It so nice &amp; I liked  it very much 😊</td>\n",
       "      <td>it so nice i liked it very much</td>\n",
       "    </tr>\n",
       "    <tr>\n",
       "      <th>11</th>\n",
       "      <td>awsome love it .....\\n</td>\n",
       "      <td>awsome love it</td>\n",
       "    </tr>\n",
       "    <tr>\n",
       "      <th>12</th>\n",
       "      <td>same as shown 👌</td>\n",
       "      <td>same as shown</td>\n",
       "    </tr>\n",
       "    <tr>\n",
       "      <th>13</th>\n",
       "      <td>The bay sofa is so comfortable n supporting. M...</td>\n",
       "      <td>the bay sofa is so comfortable n supporting my...</td>\n",
       "    </tr>\n",
       "    <tr>\n",
       "      <th>14</th>\n",
       "      <td>This is fantastic 👍. I love to the stuff and s...</td>\n",
       "      <td>this is fantastic i love to the stuff and size...</td>\n",
       "    </tr>\n",
       "    <tr>\n",
       "      <th>15</th>\n",
       "      <td>The sofa seat is very very small for my baby t...</td>\n",
       "      <td>the sofa seat is very very small for my baby t...</td>\n",
       "    </tr>\n",
       "    <tr>\n",
       "      <th>16</th>\n",
       "      <td>this is very small as compared to picture. mat...</td>\n",
       "      <td>this is very small as compared to picture mate...</td>\n",
       "    </tr>\n",
       "    <tr>\n",
       "      <th>17</th>\n",
       "      <td>Just as in the picture. Good design and qualit...</td>\n",
       "      <td>just as in the picture good design and quality...</td>\n",
       "    </tr>\n",
       "    <tr>\n",
       "      <th>18</th>\n",
       "      <td>As far quality is concerned, it is good not so...</td>\n",
       "      <td>as far quality is concerned it is good not so ...</td>\n",
       "    </tr>\n",
       "    <tr>\n",
       "      <th>19</th>\n",
       "      <td>very GOod Quality and also same as in Photo an...</td>\n",
       "      <td>very good quality and also same as in photo an...</td>\n",
       "    </tr>\n",
       "  </tbody>\n",
       "</table>\n",
       "</div>"
      ],
      "text/plain": [
       "                                              reviews  \\\n",
       "0   original as shown in advertisement.\\ngood qual...   \n",
       "1   Same as shown in picture. Received same color,...   \n",
       "2   comfortable, and very soft item, love it and m...   \n",
       "3   it was packed well... same as shown ..i ordere...   \n",
       "4   for healthy Bady sitting space is less to sit....   \n",
       "5   No doubt same as in the pic but just for 3-4 m...   \n",
       "6                  comfortable but size is very small   \n",
       "7   So haPpy to receive the parcel. Exactly same a...   \n",
       "8    Good product same as shown in pic 😊 recommended    \n",
       "9    Quality was soo good just like shown in picture.   \n",
       "10               It so nice & I liked  it very much 😊   \n",
       "11                             awsome love it .....\\n   \n",
       "12                                    same as shown 👌   \n",
       "13  The bay sofa is so comfortable n supporting. M...   \n",
       "14  This is fantastic 👍. I love to the stuff and s...   \n",
       "15  The sofa seat is very very small for my baby t...   \n",
       "16  this is very small as compared to picture. mat...   \n",
       "17  Just as in the picture. Good design and qualit...   \n",
       "18  As far quality is concerned, it is good not so...   \n",
       "19  very GOod Quality and also same as in Photo an...   \n",
       "\n",
       "                                      cleaned_reviews  \n",
       "0   original as shown in advertisement good qualit...  \n",
       "1   same as shown in picture received same color w...  \n",
       "2   comfortable and very soft item love it and my ...  \n",
       "3   it was packed well same as shown i ordered pin...  \n",
       "4   for healthy bady sitting space is less to sit ...  \n",
       "5   no doubt same as in the pic but just for 3 4 m...  \n",
       "6                  comfortable but size is very small  \n",
       "7   so happy to receive the parcel exactly same as...  \n",
       "8      good product same as shown in pic recommended   \n",
       "9    quality was soo good just like shown in picture   \n",
       "10                   it so nice i liked it very much   \n",
       "11                                    awsome love it   \n",
       "12                                     same as shown   \n",
       "13  the bay sofa is so comfortable n supporting my...  \n",
       "14  this is fantastic i love to the stuff and size...  \n",
       "15  the sofa seat is very very small for my baby t...  \n",
       "16  this is very small as compared to picture mate...  \n",
       "17  just as in the picture good design and quality...  \n",
       "18  as far quality is concerned it is good not so ...  \n",
       "19  very good quality and also same as in photo an...  "
      ]
     },
     "execution_count": 27,
     "metadata": {},
     "output_type": "execute_result"
    }
   ],
   "source": [
    "# Remove punctuation and symbols from the text\n",
    "df['cleaned_reviews'] = df['reviews'].progress_apply(clean_text)\n",
    "df.head(20)"
   ]
  },
  {
   "cell_type": "markdown",
   "metadata": {},
   "source": [
    "##### Remove non-english reviews"
   ]
  },
  {
   "cell_type": "code",
   "execution_count": 28,
   "metadata": {},
   "outputs": [],
   "source": [
    "def find_lang(text):\n",
    "  \"\"\"\n",
    "  Find the language of the text\n",
    "  \"\"\"\n",
    "  with nlp.select_pipes(enable=['sentencizer', 'language_detector']):\n",
    "    doc = nlp(text)\n",
    "    return doc._.language['language']\n",
    "\n",
    "\n",
    "def is_english(text):\n",
    "  \"\"\"\n",
    "  Check if the text is in english\n",
    "  \"\"\"\n",
    "  return find_lang(text) == 'en'\n"
   ]
  },
  {
   "cell_type": "code",
   "execution_count": 29,
   "metadata": {},
   "outputs": [
    {
     "data": {
      "text/plain": [
       "'en'"
      ]
     },
     "execution_count": 29,
     "metadata": {},
     "output_type": "execute_result"
    }
   ],
   "source": [
    "find_lang('This is english')"
   ]
  },
  {
   "cell_type": "code",
   "execution_count": 21,
   "metadata": {},
   "outputs": [
    {
     "data": {
      "text/plain": [
       "'so'"
      ]
     },
     "execution_count": 21,
     "metadata": {},
     "output_type": "execute_result"
    }
   ],
   "source": [
    "find_lang('kya kar rahe ho')"
   ]
  },
  {
   "cell_type": "code",
   "execution_count": 30,
   "metadata": {},
   "outputs": [
    {
     "data": {
      "application/vnd.jupyter.widget-view+json": {
       "model_id": "efc83b5c9edd4d16a2a64571bd82876d",
       "version_major": 2,
       "version_minor": 0
      },
      "text/plain": [
       "  0%|          | 0/27674 [00:00<?, ?it/s]"
      ]
     },
     "metadata": {},
     "output_type": "display_data"
    }
   ],
   "source": [
    "english = df['cleaned_reviews'].progress_apply(\n",
    "    is_english)"
   ]
  },
  {
   "cell_type": "code",
   "execution_count": 35,
   "metadata": {},
   "outputs": [
    {
     "data": {
      "text/plain": [
       "6259"
      ]
     },
     "execution_count": 35,
     "metadata": {},
     "output_type": "execute_result"
    }
   ],
   "source": [
    "english[english.values != True].count()\n"
   ]
  },
  {
   "cell_type": "code",
   "execution_count": 42,
   "metadata": {},
   "outputs": [
    {
     "name": "stderr",
     "output_type": "stream",
     "text": [
      "/tmp/ipykernel_106895/3465495182.py:2: UserWarning: Boolean Series key will be reindexed to match DataFrame index.\n",
      "  df = df[english]\n"
     ]
    },
    {
     "data": {
      "text/plain": [
       "reviews            21415\n",
       "cleaned_reviews    21415\n",
       "dtype: int64"
      ]
     },
     "execution_count": 42,
     "metadata": {},
     "output_type": "execute_result"
    }
   ],
   "source": [
    "# Filter out the reviews with that are not in English\n",
    "df = df[english]\n",
    "df.count()"
   ]
  },
  {
   "cell_type": "markdown",
   "metadata": {},
   "source": [
    "##### Fix the spelling mistakes"
   ]
  },
  {
   "cell_type": "code",
   "execution_count": 45,
   "metadata": {},
   "outputs": [
    {
     "name": "stdout",
     "output_type": "stream",
     "text": [
      "loading vocab from path:/home/talha/dev/university_code/semester_7/ml/project_daraz_reviews/.env/lib/python3.9/site-packages/neuspell/../data/checkpoints/subwordbert-probwordnoise/vocab.pkl\n",
      "initializing model\n"
     ]
    },
    {
     "name": "stderr",
     "output_type": "stream",
     "text": [
      "Some weights of the model checkpoint at bert-base-cased were not used when initializing BertModel: ['cls.seq_relationship.bias', 'cls.predictions.decoder.weight', 'cls.predictions.transform.dense.weight', 'cls.seq_relationship.weight', 'cls.predictions.transform.LayerNorm.bias', 'cls.predictions.transform.dense.bias', 'cls.predictions.bias', 'cls.predictions.transform.LayerNorm.weight']\n",
      "- This IS expected if you are initializing BertModel from the checkpoint of a model trained on another task or with another architecture (e.g. initializing a BertForSequenceClassification model from a BertForPreTraining model).\n",
      "- This IS NOT expected if you are initializing BertModel from the checkpoint of a model that you expect to be exactly identical (initializing a BertForSequenceClassification model from a BertForSequenceClassification model).\n"
     ]
    },
    {
     "name": "stdout",
     "output_type": "stream",
     "text": [
      "SubwordBert(\n",
      "  (bert_dropout): Dropout(p=0.2, inplace=False)\n",
      "  (bert_model): BertModel(\n",
      "    (embeddings): BertEmbeddings(\n",
      "      (word_embeddings): Embedding(28996, 768, padding_idx=0)\n",
      "      (position_embeddings): Embedding(512, 768)\n",
      "      (token_type_embeddings): Embedding(2, 768)\n",
      "      (LayerNorm): LayerNorm((768,), eps=1e-12, elementwise_affine=True)\n",
      "      (dropout): Dropout(p=0.1, inplace=False)\n",
      "    )\n",
      "    (encoder): BertEncoder(\n",
      "      (layer): ModuleList(\n",
      "        (0): BertLayer(\n",
      "          (attention): BertAttention(\n",
      "            (self): BertSelfAttention(\n",
      "              (query): Linear(in_features=768, out_features=768, bias=True)\n",
      "              (key): Linear(in_features=768, out_features=768, bias=True)\n",
      "              (value): Linear(in_features=768, out_features=768, bias=True)\n",
      "              (dropout): Dropout(p=0.1, inplace=False)\n",
      "            )\n",
      "            (output): BertSelfOutput(\n",
      "              (dense): Linear(in_features=768, out_features=768, bias=True)\n",
      "              (LayerNorm): LayerNorm((768,), eps=1e-12, elementwise_affine=True)\n",
      "              (dropout): Dropout(p=0.1, inplace=False)\n",
      "            )\n",
      "          )\n",
      "          (intermediate): BertIntermediate(\n",
      "            (dense): Linear(in_features=768, out_features=3072, bias=True)\n",
      "          )\n",
      "          (output): BertOutput(\n",
      "            (dense): Linear(in_features=3072, out_features=768, bias=True)\n",
      "            (LayerNorm): LayerNorm((768,), eps=1e-12, elementwise_affine=True)\n",
      "            (dropout): Dropout(p=0.1, inplace=False)\n",
      "          )\n",
      "        )\n",
      "        (1): BertLayer(\n",
      "          (attention): BertAttention(\n",
      "            (self): BertSelfAttention(\n",
      "              (query): Linear(in_features=768, out_features=768, bias=True)\n",
      "              (key): Linear(in_features=768, out_features=768, bias=True)\n",
      "              (value): Linear(in_features=768, out_features=768, bias=True)\n",
      "              (dropout): Dropout(p=0.1, inplace=False)\n",
      "            )\n",
      "            (output): BertSelfOutput(\n",
      "              (dense): Linear(in_features=768, out_features=768, bias=True)\n",
      "              (LayerNorm): LayerNorm((768,), eps=1e-12, elementwise_affine=True)\n",
      "              (dropout): Dropout(p=0.1, inplace=False)\n",
      "            )\n",
      "          )\n",
      "          (intermediate): BertIntermediate(\n",
      "            (dense): Linear(in_features=768, out_features=3072, bias=True)\n",
      "          )\n",
      "          (output): BertOutput(\n",
      "            (dense): Linear(in_features=3072, out_features=768, bias=True)\n",
      "            (LayerNorm): LayerNorm((768,), eps=1e-12, elementwise_affine=True)\n",
      "            (dropout): Dropout(p=0.1, inplace=False)\n",
      "          )\n",
      "        )\n",
      "        (2): BertLayer(\n",
      "          (attention): BertAttention(\n",
      "            (self): BertSelfAttention(\n",
      "              (query): Linear(in_features=768, out_features=768, bias=True)\n",
      "              (key): Linear(in_features=768, out_features=768, bias=True)\n",
      "              (value): Linear(in_features=768, out_features=768, bias=True)\n",
      "              (dropout): Dropout(p=0.1, inplace=False)\n",
      "            )\n",
      "            (output): BertSelfOutput(\n",
      "              (dense): Linear(in_features=768, out_features=768, bias=True)\n",
      "              (LayerNorm): LayerNorm((768,), eps=1e-12, elementwise_affine=True)\n",
      "              (dropout): Dropout(p=0.1, inplace=False)\n",
      "            )\n",
      "          )\n",
      "          (intermediate): BertIntermediate(\n",
      "            (dense): Linear(in_features=768, out_features=3072, bias=True)\n",
      "          )\n",
      "          (output): BertOutput(\n",
      "            (dense): Linear(in_features=3072, out_features=768, bias=True)\n",
      "            (LayerNorm): LayerNorm((768,), eps=1e-12, elementwise_affine=True)\n",
      "            (dropout): Dropout(p=0.1, inplace=False)\n",
      "          )\n",
      "        )\n",
      "        (3): BertLayer(\n",
      "          (attention): BertAttention(\n",
      "            (self): BertSelfAttention(\n",
      "              (query): Linear(in_features=768, out_features=768, bias=True)\n",
      "              (key): Linear(in_features=768, out_features=768, bias=True)\n",
      "              (value): Linear(in_features=768, out_features=768, bias=True)\n",
      "              (dropout): Dropout(p=0.1, inplace=False)\n",
      "            )\n",
      "            (output): BertSelfOutput(\n",
      "              (dense): Linear(in_features=768, out_features=768, bias=True)\n",
      "              (LayerNorm): LayerNorm((768,), eps=1e-12, elementwise_affine=True)\n",
      "              (dropout): Dropout(p=0.1, inplace=False)\n",
      "            )\n",
      "          )\n",
      "          (intermediate): BertIntermediate(\n",
      "            (dense): Linear(in_features=768, out_features=3072, bias=True)\n",
      "          )\n",
      "          (output): BertOutput(\n",
      "            (dense): Linear(in_features=3072, out_features=768, bias=True)\n",
      "            (LayerNorm): LayerNorm((768,), eps=1e-12, elementwise_affine=True)\n",
      "            (dropout): Dropout(p=0.1, inplace=False)\n",
      "          )\n",
      "        )\n",
      "        (4): BertLayer(\n",
      "          (attention): BertAttention(\n",
      "            (self): BertSelfAttention(\n",
      "              (query): Linear(in_features=768, out_features=768, bias=True)\n",
      "              (key): Linear(in_features=768, out_features=768, bias=True)\n",
      "              (value): Linear(in_features=768, out_features=768, bias=True)\n",
      "              (dropout): Dropout(p=0.1, inplace=False)\n",
      "            )\n",
      "            (output): BertSelfOutput(\n",
      "              (dense): Linear(in_features=768, out_features=768, bias=True)\n",
      "              (LayerNorm): LayerNorm((768,), eps=1e-12, elementwise_affine=True)\n",
      "              (dropout): Dropout(p=0.1, inplace=False)\n",
      "            )\n",
      "          )\n",
      "          (intermediate): BertIntermediate(\n",
      "            (dense): Linear(in_features=768, out_features=3072, bias=True)\n",
      "          )\n",
      "          (output): BertOutput(\n",
      "            (dense): Linear(in_features=3072, out_features=768, bias=True)\n",
      "            (LayerNorm): LayerNorm((768,), eps=1e-12, elementwise_affine=True)\n",
      "            (dropout): Dropout(p=0.1, inplace=False)\n",
      "          )\n",
      "        )\n",
      "        (5): BertLayer(\n",
      "          (attention): BertAttention(\n",
      "            (self): BertSelfAttention(\n",
      "              (query): Linear(in_features=768, out_features=768, bias=True)\n",
      "              (key): Linear(in_features=768, out_features=768, bias=True)\n",
      "              (value): Linear(in_features=768, out_features=768, bias=True)\n",
      "              (dropout): Dropout(p=0.1, inplace=False)\n",
      "            )\n",
      "            (output): BertSelfOutput(\n",
      "              (dense): Linear(in_features=768, out_features=768, bias=True)\n",
      "              (LayerNorm): LayerNorm((768,), eps=1e-12, elementwise_affine=True)\n",
      "              (dropout): Dropout(p=0.1, inplace=False)\n",
      "            )\n",
      "          )\n",
      "          (intermediate): BertIntermediate(\n",
      "            (dense): Linear(in_features=768, out_features=3072, bias=True)\n",
      "          )\n",
      "          (output): BertOutput(\n",
      "            (dense): Linear(in_features=3072, out_features=768, bias=True)\n",
      "            (LayerNorm): LayerNorm((768,), eps=1e-12, elementwise_affine=True)\n",
      "            (dropout): Dropout(p=0.1, inplace=False)\n",
      "          )\n",
      "        )\n",
      "        (6): BertLayer(\n",
      "          (attention): BertAttention(\n",
      "            (self): BertSelfAttention(\n",
      "              (query): Linear(in_features=768, out_features=768, bias=True)\n",
      "              (key): Linear(in_features=768, out_features=768, bias=True)\n",
      "              (value): Linear(in_features=768, out_features=768, bias=True)\n",
      "              (dropout): Dropout(p=0.1, inplace=False)\n",
      "            )\n",
      "            (output): BertSelfOutput(\n",
      "              (dense): Linear(in_features=768, out_features=768, bias=True)\n",
      "              (LayerNorm): LayerNorm((768,), eps=1e-12, elementwise_affine=True)\n",
      "              (dropout): Dropout(p=0.1, inplace=False)\n",
      "            )\n",
      "          )\n",
      "          (intermediate): BertIntermediate(\n",
      "            (dense): Linear(in_features=768, out_features=3072, bias=True)\n",
      "          )\n",
      "          (output): BertOutput(\n",
      "            (dense): Linear(in_features=3072, out_features=768, bias=True)\n",
      "            (LayerNorm): LayerNorm((768,), eps=1e-12, elementwise_affine=True)\n",
      "            (dropout): Dropout(p=0.1, inplace=False)\n",
      "          )\n",
      "        )\n",
      "        (7): BertLayer(\n",
      "          (attention): BertAttention(\n",
      "            (self): BertSelfAttention(\n",
      "              (query): Linear(in_features=768, out_features=768, bias=True)\n",
      "              (key): Linear(in_features=768, out_features=768, bias=True)\n",
      "              (value): Linear(in_features=768, out_features=768, bias=True)\n",
      "              (dropout): Dropout(p=0.1, inplace=False)\n",
      "            )\n",
      "            (output): BertSelfOutput(\n",
      "              (dense): Linear(in_features=768, out_features=768, bias=True)\n",
      "              (LayerNorm): LayerNorm((768,), eps=1e-12, elementwise_affine=True)\n",
      "              (dropout): Dropout(p=0.1, inplace=False)\n",
      "            )\n",
      "          )\n",
      "          (intermediate): BertIntermediate(\n",
      "            (dense): Linear(in_features=768, out_features=3072, bias=True)\n",
      "          )\n",
      "          (output): BertOutput(\n",
      "            (dense): Linear(in_features=3072, out_features=768, bias=True)\n",
      "            (LayerNorm): LayerNorm((768,), eps=1e-12, elementwise_affine=True)\n",
      "            (dropout): Dropout(p=0.1, inplace=False)\n",
      "          )\n",
      "        )\n",
      "        (8): BertLayer(\n",
      "          (attention): BertAttention(\n",
      "            (self): BertSelfAttention(\n",
      "              (query): Linear(in_features=768, out_features=768, bias=True)\n",
      "              (key): Linear(in_features=768, out_features=768, bias=True)\n",
      "              (value): Linear(in_features=768, out_features=768, bias=True)\n",
      "              (dropout): Dropout(p=0.1, inplace=False)\n",
      "            )\n",
      "            (output): BertSelfOutput(\n",
      "              (dense): Linear(in_features=768, out_features=768, bias=True)\n",
      "              (LayerNorm): LayerNorm((768,), eps=1e-12, elementwise_affine=True)\n",
      "              (dropout): Dropout(p=0.1, inplace=False)\n",
      "            )\n",
      "          )\n",
      "          (intermediate): BertIntermediate(\n",
      "            (dense): Linear(in_features=768, out_features=3072, bias=True)\n",
      "          )\n",
      "          (output): BertOutput(\n",
      "            (dense): Linear(in_features=3072, out_features=768, bias=True)\n",
      "            (LayerNorm): LayerNorm((768,), eps=1e-12, elementwise_affine=True)\n",
      "            (dropout): Dropout(p=0.1, inplace=False)\n",
      "          )\n",
      "        )\n",
      "        (9): BertLayer(\n",
      "          (attention): BertAttention(\n",
      "            (self): BertSelfAttention(\n",
      "              (query): Linear(in_features=768, out_features=768, bias=True)\n",
      "              (key): Linear(in_features=768, out_features=768, bias=True)\n",
      "              (value): Linear(in_features=768, out_features=768, bias=True)\n",
      "              (dropout): Dropout(p=0.1, inplace=False)\n",
      "            )\n",
      "            (output): BertSelfOutput(\n",
      "              (dense): Linear(in_features=768, out_features=768, bias=True)\n",
      "              (LayerNorm): LayerNorm((768,), eps=1e-12, elementwise_affine=True)\n",
      "              (dropout): Dropout(p=0.1, inplace=False)\n",
      "            )\n",
      "          )\n",
      "          (intermediate): BertIntermediate(\n",
      "            (dense): Linear(in_features=768, out_features=3072, bias=True)\n",
      "          )\n",
      "          (output): BertOutput(\n",
      "            (dense): Linear(in_features=3072, out_features=768, bias=True)\n",
      "            (LayerNorm): LayerNorm((768,), eps=1e-12, elementwise_affine=True)\n",
      "            (dropout): Dropout(p=0.1, inplace=False)\n",
      "          )\n",
      "        )\n",
      "        (10): BertLayer(\n",
      "          (attention): BertAttention(\n",
      "            (self): BertSelfAttention(\n",
      "              (query): Linear(in_features=768, out_features=768, bias=True)\n",
      "              (key): Linear(in_features=768, out_features=768, bias=True)\n",
      "              (value): Linear(in_features=768, out_features=768, bias=True)\n",
      "              (dropout): Dropout(p=0.1, inplace=False)\n",
      "            )\n",
      "            (output): BertSelfOutput(\n",
      "              (dense): Linear(in_features=768, out_features=768, bias=True)\n",
      "              (LayerNorm): LayerNorm((768,), eps=1e-12, elementwise_affine=True)\n",
      "              (dropout): Dropout(p=0.1, inplace=False)\n",
      "            )\n",
      "          )\n",
      "          (intermediate): BertIntermediate(\n",
      "            (dense): Linear(in_features=768, out_features=3072, bias=True)\n",
      "          )\n",
      "          (output): BertOutput(\n",
      "            (dense): Linear(in_features=3072, out_features=768, bias=True)\n",
      "            (LayerNorm): LayerNorm((768,), eps=1e-12, elementwise_affine=True)\n",
      "            (dropout): Dropout(p=0.1, inplace=False)\n",
      "          )\n",
      "        )\n",
      "        (11): BertLayer(\n",
      "          (attention): BertAttention(\n",
      "            (self): BertSelfAttention(\n",
      "              (query): Linear(in_features=768, out_features=768, bias=True)\n",
      "              (key): Linear(in_features=768, out_features=768, bias=True)\n",
      "              (value): Linear(in_features=768, out_features=768, bias=True)\n",
      "              (dropout): Dropout(p=0.1, inplace=False)\n",
      "            )\n",
      "            (output): BertSelfOutput(\n",
      "              (dense): Linear(in_features=768, out_features=768, bias=True)\n",
      "              (LayerNorm): LayerNorm((768,), eps=1e-12, elementwise_affine=True)\n",
      "              (dropout): Dropout(p=0.1, inplace=False)\n",
      "            )\n",
      "          )\n",
      "          (intermediate): BertIntermediate(\n",
      "            (dense): Linear(in_features=768, out_features=3072, bias=True)\n",
      "          )\n",
      "          (output): BertOutput(\n",
      "            (dense): Linear(in_features=3072, out_features=768, bias=True)\n",
      "            (LayerNorm): LayerNorm((768,), eps=1e-12, elementwise_affine=True)\n",
      "            (dropout): Dropout(p=0.1, inplace=False)\n",
      "          )\n",
      "        )\n",
      "      )\n",
      "    )\n",
      "    (pooler): BertPooler(\n",
      "      (dense): Linear(in_features=768, out_features=768, bias=True)\n",
      "      (activation): Tanh()\n",
      "    )\n",
      "  )\n",
      "  (dense): Linear(in_features=768, out_features=100002, bias=True)\n",
      "  (criterion): CrossEntropyLoss()\n",
      ")\n",
      "185211810\n",
      "loading pretrained weights from path:/home/talha/dev/university_code/semester_7/ml/project_daraz_reviews/.env/lib/python3.9/site-packages/neuspell/../data/checkpoints/subwordbert-probwordnoise\n",
      "Loading model params from checkpoint dir: /home/talha/dev/university_code/semester_7/ml/project_daraz_reviews/.env/lib/python3.9/site-packages/neuspell/../data/checkpoints/subwordbert-probwordnoise\n"
     ]
    }
   ],
   "source": [
    "checker = BertChecker(device=\"cuda\")\n",
    "checker.from_pretrained()\n"
   ]
  },
  {
   "cell_type": "code",
   "execution_count": 46,
   "metadata": {},
   "outputs": [],
   "source": [
    "\n",
    "def fix_spell(text):\n",
    "  \"\"\"\n",
    "  Fix the spelling of the text\n",
    "  \"\"\"\n",
    "  if not (isinstance(text, str)) or text == ' ':\n",
    "    print(str, type(text))\n",
    "    return text\n",
    "  return checker.correct(text)\n"
   ]
  },
  {
   "cell_type": "code",
   "execution_count": 47,
   "metadata": {},
   "outputs": [
    {
     "data": {
      "text/plain": [
       "'fresh but little bit expensive then market '"
      ]
     },
     "execution_count": 47,
     "metadata": {},
     "output_type": "execute_result"
    }
   ],
   "source": [
    "df.cleaned_reviews[101]"
   ]
  },
  {
   "cell_type": "code",
   "execution_count": 48,
   "metadata": {},
   "outputs": [
    {
     "data": {
      "application/vnd.jupyter.widget-view+json": {
       "model_id": "edcf623e081b4bfebc1c8a75a2a5de64",
       "version_major": 2,
       "version_minor": 0
      },
      "text/plain": [
       "  0%|          | 0/21415 [00:00<?, ?it/s]"
      ]
     },
     "metadata": {},
     "output_type": "display_data"
    },
    {
     "data": {
      "text/html": [
       "<div>\n",
       "<style scoped>\n",
       "    .dataframe tbody tr th:only-of-type {\n",
       "        vertical-align: middle;\n",
       "    }\n",
       "\n",
       "    .dataframe tbody tr th {\n",
       "        vertical-align: top;\n",
       "    }\n",
       "\n",
       "    .dataframe thead th {\n",
       "        text-align: right;\n",
       "    }\n",
       "</style>\n",
       "<table border=\"1\" class=\"dataframe\">\n",
       "  <thead>\n",
       "    <tr style=\"text-align: right;\">\n",
       "      <th></th>\n",
       "      <th>reviews</th>\n",
       "      <th>cleaned_reviews</th>\n",
       "    </tr>\n",
       "  </thead>\n",
       "  <tbody>\n",
       "    <tr>\n",
       "      <th>0</th>\n",
       "      <td>original as shown in advertisement.\\ngood qual...</td>\n",
       "      <td>original as shown in advertisement good qualit...</td>\n",
       "    </tr>\n",
       "    <tr>\n",
       "      <th>1</th>\n",
       "      <td>Same as shown in picture. Received same color,...</td>\n",
       "      <td>same as shown in picture received same color t...</td>\n",
       "    </tr>\n",
       "    <tr>\n",
       "      <th>2</th>\n",
       "      <td>comfortable, and very soft item, love it and m...</td>\n",
       "      <td>comfortable and very soft item love it and my ...</td>\n",
       "    </tr>\n",
       "    <tr>\n",
       "      <th>3</th>\n",
       "      <td>it was packed well... same as shown ..i ordere...</td>\n",
       "      <td>it was packed well same as shown and ordered p...</td>\n",
       "    </tr>\n",
       "    <tr>\n",
       "      <th>4</th>\n",
       "      <td>for healthy Bady sitting space is less to sit....</td>\n",
       "      <td>for healthy body sitting space is less to cut ...</td>\n",
       "    </tr>\n",
       "    <tr>\n",
       "      <th>5</th>\n",
       "      <td>No doubt same as in the pic but just for 3-4 m...</td>\n",
       "      <td>no doubt same as in the pic but just for 3 4 m...</td>\n",
       "    </tr>\n",
       "    <tr>\n",
       "      <th>6</th>\n",
       "      <td>comfortable but size is very small</td>\n",
       "      <td>comfortable but size is very small</td>\n",
       "    </tr>\n",
       "    <tr>\n",
       "      <th>7</th>\n",
       "      <td>So haPpy to receive the parcel. Exactly same a...</td>\n",
       "      <td>so happy to receive the parcel exactly same as...</td>\n",
       "    </tr>\n",
       "    <tr>\n",
       "      <th>8</th>\n",
       "      <td>Good product same as shown in pic 😊 recommended</td>\n",
       "      <td>good product same as shown in pic recommended</td>\n",
       "    </tr>\n",
       "    <tr>\n",
       "      <th>9</th>\n",
       "      <td>Quality was soo good just like shown in picture.</td>\n",
       "      <td>quality was too good just like shown in pictures</td>\n",
       "    </tr>\n",
       "    <tr>\n",
       "      <th>10</th>\n",
       "      <td>It so nice &amp; I liked  it very much 😊</td>\n",
       "      <td>it so nice I liked it very much</td>\n",
       "    </tr>\n",
       "    <tr>\n",
       "      <th>11</th>\n",
       "      <td>awsome love it .....\\n</td>\n",
       "      <td>awesome love it</td>\n",
       "    </tr>\n",
       "    <tr>\n",
       "      <th>12</th>\n",
       "      <td>same as shown 👌</td>\n",
       "      <td>same as shown</td>\n",
       "    </tr>\n",
       "    <tr>\n",
       "      <th>13</th>\n",
       "      <td>The bay sofa is so comfortable n supporting. M...</td>\n",
       "      <td>the baby sofa is so comfortable in supporting ...</td>\n",
       "    </tr>\n",
       "    <tr>\n",
       "      <th>14</th>\n",
       "      <td>This is fantastic 👍. I love to the stuff and s...</td>\n",
       "      <td>this is fantastic i love to the stuff and size...</td>\n",
       "    </tr>\n",
       "    <tr>\n",
       "      <th>15</th>\n",
       "      <td>The sofa seat is very very small for my baby t...</td>\n",
       "      <td>the sofa seat is very very small for my baby t...</td>\n",
       "    </tr>\n",
       "    <tr>\n",
       "      <th>16</th>\n",
       "      <td>this is very small as compared to picture. mat...</td>\n",
       "      <td>this is very small as compared to picture mate...</td>\n",
       "    </tr>\n",
       "    <tr>\n",
       "      <th>17</th>\n",
       "      <td>Just as in the picture. Good design and qualit...</td>\n",
       "      <td>just as in the picture good design and quality...</td>\n",
       "    </tr>\n",
       "    <tr>\n",
       "      <th>18</th>\n",
       "      <td>As far quality is concerned, it is good not so...</td>\n",
       "      <td>as far quality is concerned it is good not so ...</td>\n",
       "    </tr>\n",
       "    <tr>\n",
       "      <th>19</th>\n",
       "      <td>very GOod Quality and also same as in Photo an...</td>\n",
       "      <td>very good quality and also same as in photo an...</td>\n",
       "    </tr>\n",
       "  </tbody>\n",
       "</table>\n",
       "</div>"
      ],
      "text/plain": [
       "                                              reviews  \\\n",
       "0   original as shown in advertisement.\\ngood qual...   \n",
       "1   Same as shown in picture. Received same color,...   \n",
       "2   comfortable, and very soft item, love it and m...   \n",
       "3   it was packed well... same as shown ..i ordere...   \n",
       "4   for healthy Bady sitting space is less to sit....   \n",
       "5   No doubt same as in the pic but just for 3-4 m...   \n",
       "6                  comfortable but size is very small   \n",
       "7   So haPpy to receive the parcel. Exactly same a...   \n",
       "8    Good product same as shown in pic 😊 recommended    \n",
       "9    Quality was soo good just like shown in picture.   \n",
       "10               It so nice & I liked  it very much 😊   \n",
       "11                             awsome love it .....\\n   \n",
       "12                                    same as shown 👌   \n",
       "13  The bay sofa is so comfortable n supporting. M...   \n",
       "14  This is fantastic 👍. I love to the stuff and s...   \n",
       "15  The sofa seat is very very small for my baby t...   \n",
       "16  this is very small as compared to picture. mat...   \n",
       "17  Just as in the picture. Good design and qualit...   \n",
       "18  As far quality is concerned, it is good not so...   \n",
       "19  very GOod Quality and also same as in Photo an...   \n",
       "\n",
       "                                      cleaned_reviews  \n",
       "0   original as shown in advertisement good qualit...  \n",
       "1   same as shown in picture received same color t...  \n",
       "2   comfortable and very soft item love it and my ...  \n",
       "3   it was packed well same as shown and ordered p...  \n",
       "4   for healthy body sitting space is less to cut ...  \n",
       "5   no doubt same as in the pic but just for 3 4 m...  \n",
       "6                  comfortable but size is very small  \n",
       "7   so happy to receive the parcel exactly same as...  \n",
       "8       good product same as shown in pic recommended  \n",
       "9    quality was too good just like shown in pictures  \n",
       "10                    it so nice I liked it very much  \n",
       "11                                    awesome love it  \n",
       "12                                      same as shown  \n",
       "13  the baby sofa is so comfortable in supporting ...  \n",
       "14  this is fantastic i love to the stuff and size...  \n",
       "15  the sofa seat is very very small for my baby t...  \n",
       "16  this is very small as compared to picture mate...  \n",
       "17  just as in the picture good design and quality...  \n",
       "18  as far quality is concerned it is good not so ...  \n",
       "19  very good quality and also same as in photo an...  "
      ]
     },
     "execution_count": 48,
     "metadata": {},
     "output_type": "execute_result"
    }
   ],
   "source": [
    "df['cleaned_reviews'] = df['cleaned_reviews'].progress_apply(fix_spell)\n",
    "df.head(20)"
   ]
  },
  {
   "cell_type": "markdown",
   "metadata": {},
   "source": [
    "##### Remove Stopwords"
   ]
  },
  {
   "cell_type": "code",
   "execution_count": 55,
   "metadata": {},
   "outputs": [
    {
     "name": "stderr",
     "output_type": "stream",
     "text": [
      "[nltk_data] Downloading package stopwords to /home/talha/nltk_data...\n",
      "[nltk_data]   Package stopwords is already up-to-date!\n"
     ]
    }
   ],
   "source": [
    "# Download few nltk packages\n",
    "nltk.download('stopwords')\n",
    "# english stopwords\n",
    "stopwords = nltk.corpus.stopwords.words('english')\n"
   ]
  },
  {
   "cell_type": "code",
   "execution_count": 56,
   "metadata": {},
   "outputs": [],
   "source": [
    "def remove_stopwords(text):\n",
    "  \"\"\"\n",
    "  Remove stopwords from text\n",
    "  \"\"\"\n",
    "  # Tokenize text\n",
    "  tokens = nltk.word_tokenize(text)\n",
    "  # Remove stopwords\n",
    "  filtered_tokens = [word for word in tokens if word not in stopwords]\n",
    "  # Join filtered tokens\n",
    "  filtered_text = ' '.join(filtered_tokens)\n",
    "\n",
    "  return filtered_text\n"
   ]
  },
  {
   "cell_type": "code",
   "execution_count": 57,
   "metadata": {},
   "outputs": [
    {
     "data": {
      "application/vnd.jupyter.widget-view+json": {
       "model_id": "95733f0c14ad4a739a008de90b0c45a5",
       "version_major": 2,
       "version_minor": 0
      },
      "text/plain": [
       "  0%|          | 0/21415 [00:00<?, ?it/s]"
      ]
     },
     "metadata": {},
     "output_type": "display_data"
    },
    {
     "data": {
      "text/html": [
       "<div>\n",
       "<style scoped>\n",
       "    .dataframe tbody tr th:only-of-type {\n",
       "        vertical-align: middle;\n",
       "    }\n",
       "\n",
       "    .dataframe tbody tr th {\n",
       "        vertical-align: top;\n",
       "    }\n",
       "\n",
       "    .dataframe thead th {\n",
       "        text-align: right;\n",
       "    }\n",
       "</style>\n",
       "<table border=\"1\" class=\"dataframe\">\n",
       "  <thead>\n",
       "    <tr style=\"text-align: right;\">\n",
       "      <th></th>\n",
       "      <th>reviews</th>\n",
       "      <th>cleaned_reviews</th>\n",
       "    </tr>\n",
       "  </thead>\n",
       "  <tbody>\n",
       "    <tr>\n",
       "      <th>0</th>\n",
       "      <td>original as shown in advertisement.\\ngood qual...</td>\n",
       "      <td>original shown advertisement good quality reli...</td>\n",
       "    </tr>\n",
       "    <tr>\n",
       "      <th>1</th>\n",
       "      <td>Same as shown in picture. Received same color,...</td>\n",
       "      <td>shown picture received color order good qualit...</td>\n",
       "    </tr>\n",
       "    <tr>\n",
       "      <th>2</th>\n",
       "      <td>comfortable, and very soft item, love it and m...</td>\n",
       "      <td>comfortable soft item love baby girl happy hig...</td>\n",
       "    </tr>\n",
       "    <tr>\n",
       "      <th>3</th>\n",
       "      <td>it was packed well... same as shown ..i ordere...</td>\n",
       "      <td>packed well shown ordered pink thank god recei...</td>\n",
       "    </tr>\n",
       "    <tr>\n",
       "      <th>4</th>\n",
       "      <td>for healthy Bady sitting space is less to sit....</td>\n",
       "      <td>healthy body sitting space less cut size small...</td>\n",
       "    </tr>\n",
       "  </tbody>\n",
       "</table>\n",
       "</div>"
      ],
      "text/plain": [
       "                                             reviews  \\\n",
       "0  original as shown in advertisement.\\ngood qual...   \n",
       "1  Same as shown in picture. Received same color,...   \n",
       "2  comfortable, and very soft item, love it and m...   \n",
       "3  it was packed well... same as shown ..i ordere...   \n",
       "4  for healthy Bady sitting space is less to sit....   \n",
       "\n",
       "                                     cleaned_reviews  \n",
       "0  original shown advertisement good quality reli...  \n",
       "1  shown picture received color order good qualit...  \n",
       "2  comfortable soft item love baby girl happy hig...  \n",
       "3  packed well shown ordered pink thank god recei...  \n",
       "4  healthy body sitting space less cut size small...  "
      ]
     },
     "execution_count": 57,
     "metadata": {},
     "output_type": "execute_result"
    }
   ],
   "source": [
    "df['cleaned_reviews'] = df['cleaned_reviews'].progress_apply(remove_stopwords)\n",
    "df.head()"
   ]
  },
  {
   "cell_type": "markdown",
   "metadata": {},
   "source": [
    "##### Perfoming Lemmatization"
   ]
  },
  {
   "cell_type": "code",
   "execution_count": 58,
   "metadata": {},
   "outputs": [],
   "source": [
    "\n",
    "def lemmatize(text):\n",
    "  \"\"\"\n",
    "  Lemmatize text\n",
    "  \"\"\"\n",
    "  with nlp.select_pipes(enable=[\"tagger\",\"attribute_ruler\", \"lemmatizer\"]):\n",
    "    doc = nlp(text)\n",
    "    return ' '.join([token.lemma_ for token in doc])"
   ]
  },
  {
   "cell_type": "code",
   "execution_count": 59,
   "metadata": {},
   "outputs": [
    {
     "data": {
      "application/vnd.jupyter.widget-view+json": {
       "model_id": "ed34a069ffd947599a62e72fd883cca6",
       "version_major": 2,
       "version_minor": 0
      },
      "text/plain": [
       "  0%|          | 0/21415 [00:00<?, ?it/s]"
      ]
     },
     "metadata": {},
     "output_type": "display_data"
    },
    {
     "data": {
      "text/html": [
       "<div>\n",
       "<style scoped>\n",
       "    .dataframe tbody tr th:only-of-type {\n",
       "        vertical-align: middle;\n",
       "    }\n",
       "\n",
       "    .dataframe tbody tr th {\n",
       "        vertical-align: top;\n",
       "    }\n",
       "\n",
       "    .dataframe thead th {\n",
       "        text-align: right;\n",
       "    }\n",
       "</style>\n",
       "<table border=\"1\" class=\"dataframe\">\n",
       "  <thead>\n",
       "    <tr style=\"text-align: right;\">\n",
       "      <th></th>\n",
       "      <th>reviews</th>\n",
       "      <th>cleaned_reviews</th>\n",
       "    </tr>\n",
       "  </thead>\n",
       "  <tbody>\n",
       "    <tr>\n",
       "      <th>0</th>\n",
       "      <td>original as shown in advertisement.\\ngood qual...</td>\n",
       "      <td>original shown advertisement good quality reli...</td>\n",
       "    </tr>\n",
       "    <tr>\n",
       "      <th>1</th>\n",
       "      <td>Same as shown in picture. Received same color,...</td>\n",
       "      <td>shown picture received color order good qualit...</td>\n",
       "    </tr>\n",
       "    <tr>\n",
       "      <th>2</th>\n",
       "      <td>comfortable, and very soft item, love it and m...</td>\n",
       "      <td>comfortable soft item love baby girl happy hig...</td>\n",
       "    </tr>\n",
       "    <tr>\n",
       "      <th>3</th>\n",
       "      <td>it was packed well... same as shown ..i ordere...</td>\n",
       "      <td>packed well shown ordered pink thank god recei...</td>\n",
       "    </tr>\n",
       "    <tr>\n",
       "      <th>4</th>\n",
       "      <td>for healthy Bady sitting space is less to sit....</td>\n",
       "      <td>healthy body sitting space less cut size small...</td>\n",
       "    </tr>\n",
       "  </tbody>\n",
       "</table>\n",
       "</div>"
      ],
      "text/plain": [
       "                                             reviews  \\\n",
       "0  original as shown in advertisement.\\ngood qual...   \n",
       "1  Same as shown in picture. Received same color,...   \n",
       "2  comfortable, and very soft item, love it and m...   \n",
       "3  it was packed well... same as shown ..i ordere...   \n",
       "4  for healthy Bady sitting space is less to sit....   \n",
       "\n",
       "                                     cleaned_reviews  \n",
       "0  original shown advertisement good quality reli...  \n",
       "1  shown picture received color order good qualit...  \n",
       "2  comfortable soft item love baby girl happy hig...  \n",
       "3  packed well shown ordered pink thank god recei...  \n",
       "4  healthy body sitting space less cut size small...  "
      ]
     },
     "execution_count": 59,
     "metadata": {},
     "output_type": "execute_result"
    }
   ],
   "source": [
    "df['cleaned_reviews'] = df['cleaned_reviews'].progress_apply(lemmatize)\n",
    "df.head()"
   ]
  },
  {
   "cell_type": "code",
   "execution_count": 54,
   "metadata": {},
   "outputs": [],
   "source": [
    "df.to_csv('../data/cleaned_data.csv', index=False)"
   ]
  },
  {
   "cell_type": "markdown",
   "metadata": {},
   "source": [
    "##### Data Transformation"
   ]
  },
  {
   "cell_type": "code",
   "execution_count": 66,
   "metadata": {},
   "outputs": [
    {
     "data": {
      "text/html": [
       "<div>\n",
       "<style scoped>\n",
       "    .dataframe tbody tr th:only-of-type {\n",
       "        vertical-align: middle;\n",
       "    }\n",
       "\n",
       "    .dataframe tbody tr th {\n",
       "        vertical-align: top;\n",
       "    }\n",
       "\n",
       "    .dataframe thead th {\n",
       "        text-align: right;\n",
       "    }\n",
       "</style>\n",
       "<table border=\"1\" class=\"dataframe\">\n",
       "  <thead>\n",
       "    <tr style=\"text-align: right;\">\n",
       "      <th></th>\n",
       "      <th>reviews</th>\n",
       "      <th>cleaned_reviews</th>\n",
       "      <th>label</th>\n",
       "    </tr>\n",
       "  </thead>\n",
       "  <tbody>\n",
       "    <tr>\n",
       "      <th>0</th>\n",
       "      <td>original as shown in advertisement.\\ngood qual...</td>\n",
       "      <td>original shown advertisement good quality reli...</td>\n",
       "      <td>1</td>\n",
       "    </tr>\n",
       "    <tr>\n",
       "      <th>1</th>\n",
       "      <td>Same as shown in picture. Received same color,...</td>\n",
       "      <td>shown picture received color order good qualit...</td>\n",
       "      <td>1</td>\n",
       "    </tr>\n",
       "    <tr>\n",
       "      <th>2</th>\n",
       "      <td>comfortable, and very soft item, love it and m...</td>\n",
       "      <td>comfortable soft item love baby girl happy hig...</td>\n",
       "      <td>1</td>\n",
       "    </tr>\n",
       "    <tr>\n",
       "      <th>3</th>\n",
       "      <td>it was packed well... same as shown ..i ordere...</td>\n",
       "      <td>packed well shown ordered pink thank god recei...</td>\n",
       "      <td>1</td>\n",
       "    </tr>\n",
       "    <tr>\n",
       "      <th>4</th>\n",
       "      <td>for healthy Bady sitting space is less to sit....</td>\n",
       "      <td>healthy body sitting space less cut size small...</td>\n",
       "      <td>1</td>\n",
       "    </tr>\n",
       "  </tbody>\n",
       "</table>\n",
       "</div>"
      ],
      "text/plain": [
       "                                             reviews  \\\n",
       "0  original as shown in advertisement.\\ngood qual...   \n",
       "1  Same as shown in picture. Received same color,...   \n",
       "2  comfortable, and very soft item, love it and m...   \n",
       "3  it was packed well... same as shown ..i ordere...   \n",
       "4  for healthy Bady sitting space is less to sit....   \n",
       "\n",
       "                                     cleaned_reviews  label  \n",
       "0  original shown advertisement good quality reli...      1  \n",
       "1  shown picture received color order good qualit...      1  \n",
       "2  comfortable soft item love baby girl happy hig...      1  \n",
       "3  packed well shown ordered pink thank god recei...      1  \n",
       "4  healthy body sitting space less cut size small...      1  "
      ]
     },
     "execution_count": 66,
     "metadata": {},
     "output_type": "execute_result"
    }
   ],
   "source": [
    "df = pd.read_csv('../data/cleaned_data_labeled.csv')\n",
    "df.head()"
   ]
  },
  {
   "cell_type": "code",
   "execution_count": 67,
   "metadata": {},
   "outputs": [],
   "source": [
    "# Initializing SKLearn's CountVectorizer\n",
    "from sklearn.feature_extraction.text import CountVectorizer\n",
    "\n",
    "vec_count = CountVectorizer(max_features=1000)"
   ]
  },
  {
   "cell_type": "code",
   "execution_count": 68,
   "metadata": {},
   "outputs": [
    {
     "data": {
      "text/plain": [
       "((21415, 1000), (21415,))"
      ]
     },
     "execution_count": 68,
     "metadata": {},
     "output_type": "execute_result"
    }
   ],
   "source": [
    "# Converting cleaned dataset into bag of words\n",
    "X = vec_count.fit_transform(df['cleaned_reviews'].apply(lambda x: np.str_(x))).toarray()\n",
    "# Get labels\n",
    "y = df.iloc[:, -1].apply(float)\n",
    "X.shape, y.shape"
   ]
  },
  {
   "cell_type": "markdown",
   "metadata": {},
   "source": [
    "#### Training the Model"
   ]
  },
  {
   "cell_type": "code",
   "execution_count": 70,
   "metadata": {},
   "outputs": [],
   "source": [
    "from sklearn.neural_network import MLPClassifier\n",
    "from sklearn.model_selection import train_test_split\n",
    "\n",
    "mlp = MLPClassifier(max_iter=1000, verbose=True)\n"
   ]
  },
  {
   "cell_type": "code",
   "execution_count": 71,
   "metadata": {},
   "outputs": [],
   "source": [
    "\n",
    "# Splitting the dataset into the Training set and Test set\n",
    "X_train, X_test, y_train, y_test = train_test_split(X, y, test_size=0.2, random_state=0)\n"
   ]
  },
  {
   "cell_type": "code",
   "execution_count": 72,
   "metadata": {},
   "outputs": [
    {
     "name": "stdout",
     "output_type": "stream",
     "text": [
      "Iteration 1, loss = 0.66454959\n",
      "Iteration 2, loss = 0.39712650\n",
      "Iteration 3, loss = 0.30480379\n",
      "Iteration 4, loss = 0.26286008\n",
      "Iteration 5, loss = 0.23892660\n",
      "Iteration 6, loss = 0.22019638\n",
      "Iteration 7, loss = 0.20630397\n",
      "Iteration 8, loss = 0.19361885\n",
      "Iteration 9, loss = 0.18247781\n",
      "Iteration 10, loss = 0.17221577\n",
      "Iteration 11, loss = 0.16332335\n",
      "Iteration 12, loss = 0.15459156\n",
      "Iteration 13, loss = 0.14691367\n",
      "Iteration 14, loss = 0.13919823\n",
      "Iteration 15, loss = 0.13259960\n",
      "Iteration 16, loss = 0.12697758\n",
      "Iteration 17, loss = 0.12068540\n",
      "Iteration 18, loss = 0.11546196\n",
      "Iteration 19, loss = 0.11051263\n",
      "Iteration 20, loss = 0.10637561\n",
      "Iteration 21, loss = 0.10214727\n",
      "Iteration 22, loss = 0.09826299\n",
      "Iteration 23, loss = 0.09522867\n",
      "Iteration 24, loss = 0.09207704\n",
      "Iteration 25, loss = 0.08889296\n",
      "Iteration 26, loss = 0.08586713\n",
      "Iteration 27, loss = 0.08324221\n",
      "Iteration 28, loss = 0.08059360\n",
      "Iteration 29, loss = 0.07849620\n",
      "Iteration 30, loss = 0.07669848\n",
      "Iteration 31, loss = 0.07462102\n",
      "Iteration 32, loss = 0.07308849\n",
      "Iteration 33, loss = 0.07104920\n",
      "Iteration 34, loss = 0.06966470\n",
      "Iteration 35, loss = 0.06828066\n",
      "Iteration 36, loss = 0.06675242\n",
      "Iteration 37, loss = 0.06505691\n",
      "Iteration 38, loss = 0.06359588\n",
      "Iteration 39, loss = 0.06270085\n",
      "Iteration 40, loss = 0.06120844\n",
      "Iteration 41, loss = 0.06035333\n",
      "Iteration 42, loss = 0.05907164\n",
      "Iteration 43, loss = 0.05821721\n",
      "Iteration 44, loss = 0.05708521\n",
      "Iteration 45, loss = 0.05634326\n",
      "Iteration 46, loss = 0.05548272\n",
      "Iteration 47, loss = 0.05444660\n",
      "Iteration 48, loss = 0.05378577\n",
      "Iteration 49, loss = 0.05300905\n",
      "Iteration 50, loss = 0.05271450\n",
      "Iteration 51, loss = 0.05168090\n",
      "Iteration 52, loss = 0.05112166\n",
      "Iteration 53, loss = 0.05047605\n",
      "Iteration 54, loss = 0.04994322\n",
      "Iteration 55, loss = 0.04921328\n",
      "Iteration 56, loss = 0.04882608\n",
      "Iteration 57, loss = 0.04823527\n",
      "Iteration 58, loss = 0.04758649\n",
      "Iteration 59, loss = 0.04712246\n",
      "Iteration 60, loss = 0.04704713\n",
      "Iteration 61, loss = 0.04684455\n",
      "Iteration 62, loss = 0.04577851\n",
      "Iteration 63, loss = 0.04576239\n",
      "Iteration 64, loss = 0.04530020\n",
      "Iteration 65, loss = 0.04496937\n",
      "Iteration 66, loss = 0.04434974\n",
      "Iteration 67, loss = 0.04411632\n",
      "Iteration 68, loss = 0.04385752\n",
      "Iteration 69, loss = 0.04392403\n",
      "Iteration 70, loss = 0.04328412\n",
      "Iteration 71, loss = 0.04285064\n",
      "Iteration 72, loss = 0.04250954\n",
      "Iteration 73, loss = 0.04254895\n",
      "Iteration 74, loss = 0.04188218\n",
      "Iteration 75, loss = 0.04176551\n",
      "Iteration 76, loss = 0.04149667\n",
      "Iteration 77, loss = 0.04162201\n",
      "Iteration 78, loss = 0.04107432\n",
      "Iteration 79, loss = 0.04126564\n",
      "Iteration 80, loss = 0.04102226\n",
      "Iteration 81, loss = 0.04015353\n",
      "Iteration 82, loss = 0.04036439\n",
      "Iteration 83, loss = 0.04030887\n",
      "Iteration 84, loss = 0.03997532\n",
      "Iteration 85, loss = 0.03968912\n",
      "Iteration 86, loss = 0.03998059\n",
      "Iteration 87, loss = 0.03931293\n",
      "Iteration 88, loss = 0.03916253\n",
      "Iteration 89, loss = 0.03955719\n",
      "Iteration 90, loss = 0.03957020\n",
      "Iteration 91, loss = 0.03877746\n",
      "Iteration 92, loss = 0.03904213\n",
      "Iteration 93, loss = 0.03853260\n",
      "Iteration 94, loss = 0.03865553\n",
      "Iteration 95, loss = 0.03848923\n",
      "Iteration 96, loss = 0.03820894\n",
      "Iteration 97, loss = 0.03812597\n",
      "Iteration 98, loss = 0.03850306\n",
      "Iteration 99, loss = 0.03853898\n",
      "Iteration 100, loss = 0.03802157\n",
      "Iteration 101, loss = 0.03789308\n",
      "Iteration 102, loss = 0.03738994\n",
      "Iteration 103, loss = 0.03788707\n",
      "Iteration 104, loss = 0.03742898\n",
      "Iteration 105, loss = 0.03747497\n",
      "Iteration 106, loss = 0.03796092\n",
      "Iteration 107, loss = 0.03728672\n",
      "Iteration 108, loss = 0.03746517\n",
      "Iteration 109, loss = 0.03699585\n",
      "Iteration 110, loss = 0.03724155\n",
      "Iteration 111, loss = 0.03753914\n",
      "Iteration 112, loss = 0.03752539\n",
      "Iteration 113, loss = 0.03682691\n",
      "Iteration 114, loss = 0.03689876\n",
      "Iteration 115, loss = 0.03691708\n",
      "Iteration 116, loss = 0.03655660\n",
      "Iteration 117, loss = 0.03689656\n",
      "Iteration 118, loss = 0.03690323\n",
      "Iteration 119, loss = 0.03640888\n",
      "Iteration 120, loss = 0.03732058\n",
      "Iteration 121, loss = 0.03626007\n",
      "Iteration 122, loss = 0.03642905\n",
      "Iteration 123, loss = 0.03671328\n",
      "Iteration 124, loss = 0.03616515\n",
      "Iteration 125, loss = 0.03611513\n",
      "Iteration 126, loss = 0.03604934\n",
      "Iteration 127, loss = 0.03626423\n",
      "Iteration 128, loss = 0.03584615\n",
      "Iteration 129, loss = 0.03575598\n",
      "Iteration 130, loss = 0.03618043\n",
      "Iteration 131, loss = 0.03613932\n",
      "Iteration 132, loss = 0.03593556\n",
      "Iteration 133, loss = 0.03598466\n",
      "Iteration 134, loss = 0.03611109\n",
      "Iteration 135, loss = 0.03565128\n",
      "Iteration 136, loss = 0.03548975\n",
      "Iteration 137, loss = 0.03551385\n",
      "Iteration 138, loss = 0.03579130\n",
      "Iteration 139, loss = 0.03574468\n",
      "Iteration 140, loss = 0.03545951\n",
      "Iteration 141, loss = 0.03559068\n",
      "Iteration 142, loss = 0.03586598\n",
      "Iteration 143, loss = 0.03556726\n",
      "Iteration 144, loss = 0.03569400\n",
      "Iteration 145, loss = 0.03559359\n",
      "Iteration 146, loss = 0.03563958\n",
      "Iteration 147, loss = 0.03543058\n",
      "Training loss did not improve more than tol=0.000100 for 10 consecutive epochs. Stopping.\n"
     ]
    },
    {
     "data": {
      "text/plain": [
       "MLPClassifier(max_iter=1000, verbose=True)"
      ]
     },
     "execution_count": 72,
     "metadata": {},
     "output_type": "execute_result"
    }
   ],
   "source": [
    "\n",
    "# Fitting classifier to the Training set\n",
    "mlp.fit(X_train, y_train)\n"
   ]
  },
  {
   "cell_type": "code",
   "execution_count": 73,
   "metadata": {},
   "outputs": [
    {
     "name": "stdout",
     "output_type": "stream",
     "text": [
      "90.22%\n"
     ]
    }
   ],
   "source": [
    "\n",
    "# Score the model\n",
    "score = mlp.score(X_test, y_test)\n",
    "print(\"{:.2%}\".format(score))\n"
   ]
  },
  {
   "cell_type": "markdown",
   "metadata": {},
   "source": [
    "##### Saving the Model"
   ]
  },
  {
   "cell_type": "code",
   "execution_count": 74,
   "metadata": {},
   "outputs": [],
   "source": [
    "import pickle\n",
    "\n",
    "pickle.dump(vec_count, open('../models/vectorizer.pkl', 'wb'))\n",
    "pickle.dump(mlp, open('../models/model.pkl', 'wb'))"
   ]
  },
  {
   "cell_type": "markdown",
   "metadata": {},
   "source": [
    "##### Analysis"
   ]
  },
  {
   "cell_type": "code",
   "execution_count": 75,
   "metadata": {},
   "outputs": [
    {
     "data": {
      "text/plain": [
       "<sklearn.metrics._plot.confusion_matrix.ConfusionMatrixDisplay at 0x7f1394cefcd0>"
      ]
     },
     "execution_count": 75,
     "metadata": {},
     "output_type": "execute_result"
    },
    {
     "data": {
      "image/png": "[encoded data removed]",
      "text/plain": [
       "<Figure size 432x288 with 2 Axes>"
      ]
     },
     "metadata": {},
     "output_type": "display_data"
    }
   ],
   "source": [
    "from sklearn.metrics import ConfusionMatrixDisplay\n",
    "from sklearn import metrics\n",
    "\n",
    "y_pred = mlp.predict(X_test)\n",
    "\n",
    "ConfusionMatrixDisplay.from_predictions(y_test, y_pred)"
   ]
  },
  {
   "cell_type": "markdown",
   "metadata": {},
   "source": [
    "### Playground"
   ]
  },
  {
   "cell_type": "code",
   "execution_count": 76,
   "metadata": {},
   "outputs": [],
   "source": [
    "mlp = pickle.load(open('../models/model.pkl', 'rb'))\n",
    "vec_count = pickle.load(open('../models/vectorizer.pkl', 'rb'))\n"
   ]
  },
  {
   "cell_type": "code",
   "execution_count": 77,
   "metadata": {},
   "outputs": [],
   "source": [
    "def preprocess_text(text):\n",
    "  \"\"\"\n",
    "  Preprocess the text\n",
    "  \"\"\"\n",
    "  text = clean_text(text)\n",
    "  text = fix_spell(text)\n",
    "  text = remove_stopwords(text)\n",
    "  text = lemmatize(text)\n",
    "  text = vec_count.transform([text]).toarray()\n",
    "  \n",
    "  return text\n",
    "  "
   ]
  },
  {
   "cell_type": "markdown",
   "metadata": {},
   "source": [
    "#### Playing the model"
   ]
  },
  {
   "cell_type": "code",
   "execution_count": 78,
   "metadata": {},
   "outputs": [
    {
     "data": {
      "text/plain": [
       "array([-1.])"
      ]
     },
     "execution_count": 78,
     "metadata": {},
     "output_type": "execute_result"
    }
   ],
   "source": [
    "p_review = preprocess_text('The product is bad')\n",
    "\n",
    "mlp.predict(p_review)"
   ]
  },
  {
   "cell_type": "code",
   "execution_count": 79,
   "metadata": {},
   "outputs": [
    {
     "data": {
      "text/plain": [
       "array([0.])"
      ]
     },
     "execution_count": 79,
     "metadata": {},
     "output_type": "execute_result"
    }
   ],
   "source": [
    "p_review = preprocess_text('The product is okay')\n",
    "\n",
    "mlp.predict(p_review)"
   ]
  },
  {
   "cell_type": "code",
   "execution_count": 80,
   "metadata": {},
   "outputs": [
    {
     "data": {
      "text/plain": [
       "array([1.])"
      ]
     },
     "execution_count": 80,
     "metadata": {},
     "output_type": "execute_result"
    }
   ],
   "source": [
    "p_review = preprocess_text('The product is good')\n",
    "\n",
    "mlp.predict(p_review)"
   ]
  },
  {
   "cell_type": "code",
   "execution_count": 81,
   "metadata": {},
   "outputs": [],
   "source": [
    "def predict_review(text):\n",
    "  \"\"\"\n",
    "  Predict the review\n",
    "  \"\"\"\n",
    "  text = preprocess_text(text)\n",
    "  return mlp.predict(text)\n"
   ]
  }
 ],
 "metadata": {
  "interpreter": {
   "hash": "3ebea4e724b037d327cf560b0803318aa8f3e910f1cd017abc81604e91a7f12f"
  },
  "kernelspec": {
   "display_name": "Python 3.9.9 64-bit ('.env': venv)",
   "language": "python",
   "name": "python3"
  },
  "language_info": {
   "codemirror_mode": {
    "name": "ipython",
    "version": 3
   },
   "file_extension": ".py",
   "mimetype": "text/x-python",
   "name": "python",
   "nbconvert_exporter": "python",
   "pygments_lexer": "ipython3",
   "version": "3.9.9"
  },
  "orig_nbformat": 4
 },
 "nbformat": 4,
 "nbformat_minor": 2
}
